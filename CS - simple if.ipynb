{
 "cells": [
  {
   "cell_type": "code",
   "execution_count": 7,
   "metadata": {},
   "outputs": [
    {
     "name": "stdout",
     "output_type": "stream",
     "text": [
      "positive\n"
     ]
    }
   ],
   "source": [
    "# 1)wap to check whether a number is positive. if positive, print a messaage positive.\n",
    "n=10\n",
    "if n>0:\n",
    "    print('positive')"
   ]
  },
  {
   "cell_type": "code",
   "execution_count": 8,
   "metadata": {},
   "outputs": [
    {
     "name": "stdout",
     "output_type": "stream",
     "text": [
      "hello world\n"
     ]
    }
   ],
   "source": [
    "# 2)wap to display helloworld if the number is greater than 1 and lesser than 5.\n",
    "x=10\n",
    "if 1<10 and 10>1:\n",
    "    print('hello world')"
   ]
  },
  {
   "cell_type": "code",
   "execution_count": 11,
   "metadata": {},
   "outputs": [
    {
     "name": "stdout",
     "output_type": "stream",
     "text": [
      "fizz\n"
     ]
    }
   ],
   "source": [
    "# 3)wap to check whether the given number is divisible by 3 or not if print fizz\n",
    "a=18\n",
    "if a%3==0:\n",
    "    print('fizz') "
   ]
  },
  {
   "cell_type": "code",
   "execution_count": 14,
   "metadata": {},
   "outputs": [
    {
     "name": "stdout",
     "output_type": "stream",
     "text": [
      "(12+0j)\n"
     ]
    }
   ],
   "source": [
    "# 4)wap to check whether given number is divisible by 2 and 6. if the condition is satisfied, convert the given number into a complex number\n",
    "x=12\n",
    "if x%2==0 and x%6==0:\n",
    "     print(complex(x))"
   ]
  },
  {
   "cell_type": "code",
   "execution_count": 34,
   "metadata": {},
   "outputs": [
    {
     "name": "stdout",
     "output_type": "stream",
     "text": [
      "['3', '0']\n"
     ]
    }
   ],
   "source": [
    "# 5)wap to check whether a given input is divisible by 3 or 5. if the condition is satisfied, the number is converted to a list.\n",
    "# i/p:30\n",
    "#o/p:['3','0']\n",
    "n=30 \n",
    "if n%3==0 and n%5==0:\n",
    "    print(list(str(n)))"
   ]
  },
  {
   "cell_type": "code",
   "execution_count": 57,
   "metadata": {},
   "outputs": [
    {
     "name": "stdout",
     "output_type": "stream",
     "text": [
      "it is multiple\n"
     ]
    }
   ],
   "source": [
    "# 6)wap to program to check whether a given number is multiple of 5 or not.\n",
    "x=100\n",
    "if x%100==0:\n",
    "    print('it is multiple')"
   ]
  },
  {
   "cell_type": "code",
   "execution_count": 64,
   "metadata": {},
   "outputs": [
    {
     "name": "stdout",
     "output_type": "stream",
     "text": [
      "0\n"
     ]
    }
   ],
   "source": [
    "# 7)wap to check whether the given input is 0 or not if 0 print 0.\n",
    "n=0\n",
    "if n%2==0:\n",
    "    print(0)"
   ]
  },
  {
   "cell_type": "code",
   "execution_count": 68,
   "metadata": {},
   "outputs": [
    {
     "name": "stdout",
     "output_type": "stream",
     "text": [
      "number is negative\n"
     ]
    }
   ],
   "source": [
    "# 8)wap to check whether a given number is negative. if negative, print a message negative.\n",
    "b=-10\n",
    "if b<0:\n",
    "    print('number is negative')"
   ]
  },
  {
   "cell_type": "code",
   "execution_count": 161,
   "metadata": {},
   "outputs": [
    {
     "name": "stdout",
     "output_type": "stream",
     "text": [
      "[10]\n",
      "('1', '0')\n"
     ]
    }
   ],
   "source": [
    "# 9)wap to check whether a number is even or not.if even, store the value inside the list.\n",
    "x=10\n",
    "l=[]\n",
    "if x%2==0:\n",
    "    l=l+[x] \n",
    "    print(l)\n",
    "\n",
    "x=10\n",
    "if x%2==0:\n",
    "    print(tuple(str(x)))   "
   ]
  },
  {
   "cell_type": "code",
   "execution_count": 39,
   "metadata": {},
   "outputs": [
    {
     "name": "stdout",
     "output_type": "stream",
     "text": [
      "('9',)\n"
     ]
    }
   ],
   "source": [
    "# 10)wap to check whether a given number is odd or not. if odd, store the value inside the tuple.\n",
    "x=9\n",
    "if x%2!=0:\n",
    "    print(tuple(str(x)))"
   ]
  },
  {
   "cell_type": "code",
   "execution_count": 167,
   "metadata": {},
   "outputs": [
    {
     "name": "stdout",
     "output_type": "stream",
     "text": [
      "20736\n"
     ]
    }
   ],
   "source": [
    "# 11)wap to check if the given number is even or not. if it is yes, to print the power of 4 in a given number.\n",
    "n=12\n",
    "if n%2==0:\n",
    "    n=12**4\n",
    "    print(n)"
   ]
  },
  {
   "cell_type": "code",
   "execution_count": 178,
   "metadata": {},
   "outputs": [
    {
     "name": "stdout",
     "output_type": "stream",
     "text": [
      "10\n"
     ]
    }
   ],
   "source": [
    "# 12)wap to take the input from the user as a number and check whether it is a number or not. if yes take the number and add some value and print it.\n",
    "c=6\n",
    "if type(c)==int:\n",
    "    c=c+4\n",
    "    print(c)\n",
    "else:\n",
    "    print(\"it is not a number\")"
   ]
  },
  {
   "cell_type": "code",
   "execution_count": 182,
   "metadata": {},
   "outputs": [
    {
     "name": "stdout",
     "output_type": "stream",
     "text": [
      "1225\n"
     ]
    }
   ],
   "source": [
    "# 13)wap to check whether a given value is divisible by 5 and 7. if the value is divisible, to display the square of the values.\n",
    "n=35\n",
    "if n%5==0 and n%7==0:\n",
    "    n=n**2\n",
    "    print(n)"
   ]
  },
  {
   "cell_type": "code",
   "execution_count": 184,
   "metadata": {},
   "outputs": [
    {
     "name": "stdout",
     "output_type": "stream",
     "text": [
      "4\n"
     ]
    }
   ],
   "source": [
    "#14)WAP to check whether the given value's last digit is greater than 5 or not.if greater, \n",
    "#to perform the bitwise right shift operator (skipping value is 2)\n",
    "n=18\n",
    "if n%10>=5:\n",
    "    n=n>>2\n",
    "    print(n)"
   ]
  },
  {
   "cell_type": "code",
   "execution_count": 196,
   "metadata": {},
   "outputs": [
    {
     "name": "stdout",
     "output_type": "stream",
     "text": [
      "576\n"
     ]
    }
   ],
   "source": [
    "# 15)WAP to check whether a given value is divisible by 3 and less than 30. If the value is\n",
    "#divisible, to display the square of the values.\n",
    "x=24\n",
    "if x%3==0 and x<30:\n",
    "    x=x**2\n",
    "    print(x)"
   ]
  },
  {
   "cell_type": "code",
   "execution_count": 200,
   "metadata": {},
   "outputs": [
    {
     "name": "stdout",
     "output_type": "stream",
     "text": [
      "64\n"
     ]
    }
   ],
   "source": [
    "# 16)WAP to check whether a given value is an even number and divisible by 4. If satisfied ,to display the cube of the values.\n",
    "n=4\n",
    "if n%2==0 and n%4==0:\n",
    "    n=n**3\n",
    "    print(n)"
   ]
  },
  {
   "cell_type": "code",
   "execution_count": 209,
   "metadata": {},
   "outputs": [
    {
     "name": "stdout",
     "output_type": "stream",
     "text": [
      "[8]\n"
     ]
    }
   ],
   "source": [
    "# 17)WAP to check whether a given value is even or not. If the even number stores the value inside the list.\n",
    "a=8\n",
    "l=[]\n",
    "if  a%2==0 :\n",
    "    l+=[a]\n",
    "    print(l)"
   ]
  },
  {
   "cell_type": "code",
   "execution_count": 52,
   "metadata": {},
   "outputs": [
    {
     "name": "stdout",
     "output_type": "stream",
     "text": [
      "5\n"
     ]
    }
   ],
   "source": [
    "# 18)WAP to check whether a given value is a negative or even number. If satisfied ,todisplay the last digit of the values.\n",
    "e=25\n",
    "if e%2==0 or e>0 :\n",
    "    e=e%10\n",
    "    print(e)"
   ]
  },
  {
   "cell_type": "code",
   "execution_count": 14,
   "metadata": {},
   "outputs": [
    {
     "name": "stdout",
     "output_type": "stream",
     "text": [
      "-4096\n"
     ]
    }
   ],
   "source": [
    "# 19)WAP to check whether a given value is a negative or odd number and divisible by 4.If satisfied ,to displa the cube of the values.\n",
    "d=-16\n",
    "if d<0 or d%2!=0 and d%4==0:\n",
    "    d=d**3\n",
    "    print(d)"
   ]
  },
  {
   "cell_type": "code",
   "execution_count": 12,
   "metadata": {},
   "outputs": [
    {
     "name": "stdout",
     "output_type": "stream",
     "text": [
      "D\n"
     ]
    }
   ],
   "source": [
    "# 20)WAP to check whether a given ascii value is divisible by 4 and even value. Ifsatisfied, to display the ascii character.\n",
    "a=68\n",
    "if a%4==0 and a%2==0:\n",
    "    a=chr(a)\n",
    "    print(a)"
   ]
  },
  {
   "cell_type": "code",
   "execution_count": 18,
   "metadata": {},
   "outputs": [
    {
     "name": "stdout",
     "output_type": "stream",
     "text": [
      "d\n"
     ]
    }
   ],
   "source": [
    "# 21)wap to check whether a given value is present in between 45 to 125 and the number should be divisible by 4 and 5 and even. if satisfied, to display the ascii character.\n",
    "n=100\n",
    "if 45<n<125 and n%4==0 or n%5==0 and n%2==0:\n",
    "    n=chr(n)\n",
    "    print(n)"
   ]
  },
  {
   "cell_type": "code",
   "execution_count": 32,
   "metadata": {},
   "outputs": [
    {
     "name": "stdout",
     "output_type": "stream",
     "text": [
      "400\n"
     ]
    }
   ],
   "source": [
    "# 22)wap to check whether the given value is present in between 25 to 100 and the number should be divisible by 4 and 5. if satisfied, to display multiplication of given value with 5.\n",
    "v=80\n",
    "if v%4==0 and v%5==0:\n",
    "    v=v*5\n",
    "    print(v) "
   ]
  },
  {
   "cell_type": "code",
   "execution_count": 48,
   "metadata": {},
   "outputs": [
    {
     "name": "stdout",
     "output_type": "stream",
     "text": [
      "3\n"
     ]
    }
   ],
   "source": [
    "# 23)WAP to check whether a given number is an integer and odd number. If the condition is satisfied, the integer is divisible by 5 and displays the result.\n",
    "n=15\n",
    "if type(n) and n%2!=0:\n",
    "    n=n//5\n",
    "    print(n)\n",
    "\n"
   ]
  },
  {
   "cell_type": "code",
   "execution_count": 61,
   "metadata": {},
   "outputs": [
    {
     "name": "stdout",
     "output_type": "stream",
     "text": [
      "<class 'int'>\n"
     ]
    }
   ],
   "source": [
    "# 24)WAP to check whether a given value is an integer or not. If integer, the given value is converted to string and displays the result.\n",
    "n=10\n",
    "x=str()\n",
    "if type(n):\n",
    "    x=x+str(n)\n",
    "    print(type(n))"
   ]
  },
  {
   "cell_type": "code",
   "execution_count": 80,
   "metadata": {},
   "outputs": [
    {
     "name": "stdout",
     "output_type": "stream",
     "text": [
      "t\n"
     ]
    }
   ],
   "source": [
    "# 25)WAP to check whether a given value is less than 125 and greater than 60 or not. If thecondition is satisfied, take the name and extract the middle character and display it.\n",
    "n=120\n",
    "s='q-python'\n",
    "if 60<n<125:\n",
    "    s=s[len(s)//2]\n",
    "    print(s)"
   ]
  },
  {
   "cell_type": "code",
   "execution_count": 20,
   "metadata": {},
   "outputs": [
    {
     "name": "stdout",
     "output_type": "stream",
     "text": [
      "122252\n"
     ]
    }
   ],
   "source": [
    "# 26)WAP to check whether a given two integers are equal or not. If both are equal, to perform addition and display the result.\n",
    "x=30\n",
    "y=122222\n",
    "if x and y:\n",
    "    print(x+y)\n",
    "    "
   ]
  },
  {
   "cell_type": "code",
   "execution_count": 25,
   "metadata": {},
   "outputs": [
    {
     "name": "stdout",
     "output_type": "stream",
     "text": [
      "133.33333333333334\n"
     ]
    }
   ],
   "source": [
    "# 27)WAP to check whether two values are equal or not. if equal, to performmultiplication of two numbers and that result is division by 3 and display the value.\n",
    "t=20\n",
    "s=20\n",
    "if t == s:\n",
    "    res=t*s/3\n",
    "    print(x)"
   ]
  },
  {
   "cell_type": "code",
   "execution_count": 22,
   "metadata": {},
   "outputs": [
    {
     "name": "stdout",
     "output_type": "stream",
     "text": [
      "33.333333333333336\n"
     ]
    }
   ],
   "source": [
    "a=10\n",
    "b=10\n",
    "if a==b:\n",
    "    mul=a*b\n",
    "    div=mul/3\n",
    "print(div)"
   ]
  },
  {
   "cell_type": "code",
   "execution_count": 18,
   "metadata": {},
   "outputs": [
    {
     "name": "stdout",
     "output_type": "stream",
     "text": [
      "{'b': 98}\n"
     ]
    }
   ],
   "source": [
    "# 28)WAP to check whether a character is in the alphabet or not. If the alphabet, store thevalue inside the dict(key as a character and value as an ascii value).\n",
    "r='b'\n",
    "s={}\n",
    "if 'A'<=r<='Z' or 'a'<=r<='z':\n",
    "    s|={r:ord(r)}\n",
    "    print(s)\n",
    "\n"
   ]
  },
  {
   "cell_type": "code",
   "execution_count": 17,
   "metadata": {},
   "outputs": [
    {
     "name": "stdout",
     "output_type": "stream",
     "text": [
      "{'D': 68}\n"
     ]
    }
   ],
   "source": [
    "# 29)WAP to check whether a character is in the uppercase or not. If the uppercase, store the value inside the dict(key as a character and value as an ascii value).\n",
    "n='D'\n",
    "m={}\n",
    "if 'A'<=n<='Z':\n",
    "    m=m|{n:ord(n)}\n",
    "    print(m)"
   ]
  },
  {
   "cell_type": "code",
   "execution_count": 56,
   "metadata": {},
   "outputs": [
    {
     "name": "stdout",
     "output_type": "stream",
     "text": [
      "{'a': 97}\n"
     ]
    }
   ],
   "source": [
    "# 30)WAP to check whether a character is in the uppercase or not. If the uppercase,convert to lowercase and store the value inside the dict(character as a key and ascii value as a value).\n",
    "num='A'\n",
    "mem={}\n",
    "if 'A'<=num<='Z':\n",
    "    num=num.lower()\n",
    "    mem=mem|{num:ord(num)}\n",
    "    print(mem)\n"
   ]
  },
  {
   "cell_type": "code",
   "execution_count": 58,
   "metadata": {},
   "outputs": [
    {
     "name": "stdout",
     "output_type": "stream",
     "text": [
      "aa\n"
     ]
    }
   ],
   "source": [
    "# 31)WAP to check whether a character is in the lowercase or not. If the lowercase, to perform the replication operation on that character.\n",
    "n='a'\n",
    "if 'a'<=n<='z':\n",
    "    print(n*2)"
   ]
  },
  {
   "cell_type": "code",
   "execution_count": 13,
   "metadata": {},
   "outputs": [
    {
     "name": "stdout",
     "output_type": "stream",
     "text": [
      "<class 'int'>\n"
     ]
    }
   ],
   "source": [
    "# 32)WAP to check whether a character is in the ascii number or not. If the ascii number,to convert into integer.\n",
    "s='6'\n",
    "if '0'<=s<='9':\n",
    "    res=int(s)\n",
    "    print(type(res))\n",
    "\n"
   ]
  },
  {
   "cell_type": "code",
   "execution_count": 16,
   "metadata": {},
   "outputs": [
    {
     "name": "stdout",
     "output_type": "stream",
     "text": [
      "! 33\n"
     ]
    }
   ],
   "source": [
    "# 33)WAP to check whether a character is in the special symbol or not. If the specialsymbol, to display a symbol with ascii value.\n",
    "s='!'\n",
    "if not('A'<=s<='Z' or 'a'<=s<='z' or '0'<=s<='9'):\n",
    "    print((s),ord(s))\n"
   ]
  },
  {
   "cell_type": "code",
   "execution_count": 13,
   "metadata": {},
   "outputs": [
    {
     "name": "stdout",
     "output_type": "stream",
     "text": [
      "66\n"
     ]
    }
   ],
   "source": [
    "# 34)WAP to check whether a character is an even number or not. If the even number, to display an even number.\n",
    "n='B'\n",
    "if ord(n)%2 == 0:\n",
    "    print(ord(n))"
   ]
  },
  {
   "cell_type": "code",
   "execution_count": null,
   "metadata": {},
   "outputs": [],
   "source": [
    "# 35)WAP to check whether a Given two integers a and b, if any of the integers is 10 or iftheir sum is 10, to perform the sum of the numbers and to display the square of the result."
   ]
  },
  {
   "cell_type": "code",
   "execution_count": null,
   "metadata": {},
   "outputs": [],
   "source": [
    "# 36)WAP to check whether a character is in the vowel or not. If the vowel,print the next character."
   ]
  },
  {
   "cell_type": "code",
   "execution_count": null,
   "metadata": {},
   "outputs": [],
   "source": []
  },
  {
   "cell_type": "code",
   "execution_count": null,
   "metadata": {},
   "outputs": [],
   "source": []
  },
  {
   "cell_type": "code",
   "execution_count": null,
   "metadata": {},
   "outputs": [],
   "source": []
  },
  {
   "cell_type": "code",
   "execution_count": null,
   "metadata": {},
   "outputs": [],
   "source": []
  },
  {
   "cell_type": "code",
   "execution_count": null,
   "metadata": {},
   "outputs": [],
   "source": []
  },
  {
   "cell_type": "code",
   "execution_count": null,
   "metadata": {},
   "outputs": [],
   "source": []
  },
  {
   "cell_type": "code",
   "execution_count": null,
   "metadata": {},
   "outputs": [],
   "source": []
  },
  {
   "cell_type": "code",
   "execution_count": null,
   "metadata": {},
   "outputs": [],
   "source": []
  }
 ],
 "metadata": {
  "kernelspec": {
   "display_name": "Python 3",
   "language": "python",
   "name": "python3"
  },
  "language_info": {
   "codemirror_mode": {
    "name": "ipython",
    "version": 3
   },
   "file_extension": ".py",
   "mimetype": "text/x-python",
   "name": "python",
   "nbconvert_exporter": "python",
   "pygments_lexer": "ipython3",
   "version": "3.11.4"
  },
  "orig_nbformat": 4
 },
 "nbformat": 4,
 "nbformat_minor": 2
}
