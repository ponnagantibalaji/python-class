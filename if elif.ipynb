{
 "cells": [
  {
   "cell_type": "code",
   "execution_count": 7,
   "metadata": {},
   "outputs": [
    {
     "name": "stdout",
     "output_type": "stream",
     "text": [
      "positive message\n",
      "neutral message\n",
      "negative message\n"
     ]
    }
   ],
   "source": [
    "#wap to check whether given value is positive or negative or neutral. if it is positive to displace the positive message, or if it is negative to display the negative message or else print neutral message.\n",
    "n=10\n",
    "if n>0:\n",
    "    print(\"positive message\")\n",
    "elif n<0:\n",
    "    print(\"negative message\")\n",
    "else:\n",
    "    print(\"neutral\") \n",
    "\n",
    "n=0\n",
    "if n<0:\n",
    "    print(\"positive message\")\n",
    "elif n>0:\n",
    "    print(\"negative message\")\n",
    "else:\n",
    "    print(\"neutral message\")   \n",
    "\n",
    "n=-50\n",
    "if n>0:\n",
    "    print(\"positive message\")\n",
    "elif n<0:\n",
    "    print(\"negative message\")\n",
    "else:\n",
    "    print(\"neutral message\")"
   ]
  },
  {
   "cell_type": "code",
   "execution_count": 21,
   "metadata": {},
   "outputs": [
    {
     "name": "stdout",
     "output_type": "stream",
     "text": [
      "lower case\n"
     ]
    }
   ],
   "source": [
    "#wap to check given character is what type of character.\n",
    "n='a'\n",
    "if 'A'<=n<='Z':\n",
    "    print(\"upper case\")\n",
    "elif 'a'<=n<='z':\n",
    "    print(\"lower case\")\n",
    "elif '0'<=n<='9':\n",
    "    print(\"ascii value\")\n",
    "else:\n",
    "    print(\"special character\")\n"
   ]
  },
  {
   "cell_type": "code",
   "execution_count": 46,
   "metadata": {},
   "outputs": [
    {
     "name": "stdout",
     "output_type": "stream",
     "text": [
      "invalid\n"
     ]
    }
   ],
   "source": [
    "#wap to perforrm arthematicl operation in between two values by the help of user choice.\n",
    "n=50\n",
    "b=3\n",
    "m = input(\"enter yoiur choice\")\n",
    "if \"choose\" == 1:\n",
    "    res='a'+'b'\n",
    "elif \"choose\" == 2:\n",
    "    res='a'-'b'\n",
    "elif \"choose\"  == 3:\n",
    "    res='a'*'b'\n",
    "elif \"choose\" == 4:\n",
    "    res='a'/'b'\n",
    "elif \"choose\" == 5:\n",
    "    res='a'//'b'\n",
    "elif \"choose\" == 6:\n",
    "    res='a'%'b'\n",
    "elif \"choose\" == 7:\n",
    "    res='a'**'b'\n",
    "else:\n",
    "    res=\"invalid\"\n",
    "    print(res) "
   ]
  },
  {
   "cell_type": "code",
   "execution_count": 53,
   "metadata": {},
   "outputs": [
    {
     "name": "stdout",
     "output_type": "stream",
     "text": [
      "a is lesser than b\n"
     ]
    }
   ],
   "source": [
    "#wap to follow the relation ship between true value.\n",
    "a=10\n",
    "b=20\n",
    "if a>b:\n",
    "    print('a is greater than b')\n",
    "elif a<b:\n",
    "    print('a is lesser than b')\n",
    "else:\n",
    "    a==b\n",
    "    print('both are same') \n"
   ]
  },
  {
   "cell_type": "code",
   "execution_count": null,
   "metadata": {},
   "outputs": [],
   "source": [
    "#wap to find out the given value is a what type of value. in that number value,boolean,none,sequence,mappingdata type.\n",
    "n=input('enter the value')\n",
    "if type(n) "
   ]
  }
 ],
 "metadata": {
  "kernelspec": {
   "display_name": "Python 3",
   "language": "python",
   "name": "python3"
  },
  "language_info": {
   "codemirror_mode": {
    "name": "ipython",
    "version": 3
   },
   "file_extension": ".py",
   "mimetype": "text/x-python",
   "name": "python",
   "nbconvert_exporter": "python",
   "pygments_lexer": "ipython3",
   "version": "3.11.4"
  },
  "orig_nbformat": 4
 },
 "nbformat": 4,
 "nbformat_minor": 2
}
