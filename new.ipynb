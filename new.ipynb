{
 "cells": [
  {
   "cell_type": "code",
   "execution_count": 2,
   "metadata": {},
   "outputs": [
    {
     "name": "stdout",
     "output_type": "stream",
     "text": [
      "if it is set {'hai', 10, 'a'}\n"
     ]
    }
   ],
   "source": [
    "#wap to check whether a given collection is set or not if set append the new value or else eliminate the duplicate values in collection.\n",
    "n={10,'a',\"hai\"}\n",
    "if n == 1:\n",
    "    print(\"if it is not set\",n)\n",
    "else:\n",
    "    print(\"if it is set\",n)"
   ]
  },
  {
   "cell_type": "code",
   "execution_count": 20,
   "metadata": {},
   "outputs": [
    {
     "name": "stdout",
     "output_type": "stream",
     "text": [
      "[90, 100]\n"
     ]
    }
   ],
   "source": [
    "#wap to check lenfth of both string collection is equal or not if it is equal print the collection of any one of the collection if it is not equal print both the collection.\n",
    "s=[10,20,30,40]\n",
    "n=[90,100]\n",
    "if n == s:\n",
    "    print(s) \n",
    "else:\n",
    "    print(n)"
   ]
  },
  {
   "cell_type": "code",
   "execution_count": 8,
   "metadata": {},
   "outputs": [
    {
     "name": "stdout",
     "output_type": "stream",
     "text": [
      "110\n"
     ]
    }
   ],
   "source": [
    "#wap to accept two integers and check whether they are equal or not if equal multiply to value or quotation vaue or display it.\n",
    "n=10\n",
    "m=55\n",
    "if n is m:\n",
    "    print(n**2)\n",
    "else:\n",
    "    print(m*2)"
   ]
  },
  {
   "cell_type": "code",
   "execution_count": 28,
   "metadata": {},
   "outputs": [
    {
     "name": "stdout",
     "output_type": "stream",
     "text": [
      "['ashokkumar']\n"
     ]
    }
   ],
   "source": [
    "#wap to check whether a given string is more than 5 characters to print the entire string other wise to print after the third position to the remaining string.\n",
    "x=[\"ashokkumar\"]\n",
    "if (len(x)//2):\n",
    "    print(x)\n",
    "else:\n",
    "    print(x)"
   ]
  },
  {
   "cell_type": "code",
   "execution_count": null,
   "metadata": {},
   "outputs": [],
   "source": []
  }
 ],
 "metadata": {
  "kernelspec": {
   "display_name": "Python 3",
   "language": "python",
   "name": "python3"
  },
  "language_info": {
   "codemirror_mode": {
    "name": "ipython",
    "version": 3
   },
   "file_extension": ".py",
   "mimetype": "text/x-python",
   "name": "python",
   "nbconvert_exporter": "python",
   "pygments_lexer": "ipython3",
   "version": "3.11.4"
  },
  "orig_nbformat": 4
 },
 "nbformat": 4,
 "nbformat_minor": 2
}
