{
 "cells": [
  {
   "cell_type": "code",
   "execution_count": 14,
   "metadata": {},
   "outputs": [
    {
     "name": "stdout",
     "output_type": "stream",
     "text": [
      "10\n"
     ]
    }
   ],
   "source": [
    "#1)wap to check whether a number is positive or negative. if positive print positive message or else print negative number.\n",
    "n=10\n",
    "if n>=0:\n",
    "    print(n)\n",
    "else:\n",
    "        print(n)        "
   ]
  },
  {
   "cell_type": "code",
   "execution_count": 18,
   "metadata": {},
   "outputs": [
    {
     "name": "stdout",
     "output_type": "stream",
     "text": [
      "it is even\n"
     ]
    }
   ],
   "source": [
    "#2)wap to check whether given number is even or odd. if even, print message an even or else print message as odd.\n",
    "n=7\n",
    "if n%2==0:\n",
    "        print(\"it is odd\")\n",
    "else:\n",
    "        print(\"it is even\")"
   ]
  },
  {
   "cell_type": "code",
   "execution_count": 24,
   "metadata": {},
   "outputs": [
    {
     "name": "stdout",
     "output_type": "stream",
     "text": [
      "it is greater\n"
     ]
    }
   ],
   "source": [
    "#3)wap to check whether given number is greater than 10 or not. if it is greater than 10 print message as greater or else print that number with not a greater than.\n",
    "x=25\n",
    "if x>10:\n",
    "        print(\"it is greater\")\n",
    "else:\n",
    "        print(\"it is lesser\")"
   ]
  },
  {
   "cell_type": "code",
   "execution_count": 37,
   "metadata": {},
   "outputs": [
    {
     "name": "stdout",
     "output_type": "stream",
     "text": [
      "GOOD MORNING\n",
      "GOOD EVENING\n"
     ]
    }
   ],
   "source": [
    "#4)WAP to check whether the given two input numbers are divisible by 3 and 5. If it is divisible, print “Good Morning”, if it is not divisible print “Good Evening”.\n",
    "x=15\n",
    "if x%3==0 or y%5==0:\n",
    "        print(\"GOOD MORNING\")\n",
    "else:\n",
    "        print(\"GOOD EVENING\")\n",
    "\n",
    "y=21\n",
    "if n%2==3 or n%2==5:\n",
    "        print(\"GOOD MORNING\")\n",
    "else:\n",
    "        print(\"GOOD EVENING\")"
   ]
  },
  {
   "cell_type": "code",
   "execution_count": 56,
   "metadata": {},
   "outputs": [
    {
     "name": "stdout",
     "output_type": "stream",
     "text": [
      "AbBcAB\n"
     ]
    }
   ],
   "source": [
    "#5)WAP to accept two integers and check whether those two values are equal or not.If equal, multiply to value or else to display the quotation value.\n",
    "s=\"AbBc\"\n",
    "if(ord(s[0])+1==ord(s[len(s)//2])):\n",
    "        res=s[0]+s[len(s)//2]\n",
    "        s+=res\n",
    "        print(s)\n"
   ]
  },
  {
   "cell_type": "code",
   "execution_count": 59,
   "metadata": {},
   "outputs": [
    {
     "name": "stdout",
     "output_type": "stream",
     "text": [
      "greater 15\n"
     ]
    }
   ],
   "source": [
    "#6)WAP to check whether the input number is greater than 10 or not if it is greater than 10 print messages as greater with number. if it is not a greater than 10 print that number.\n",
    "n=15\n",
    "if n>10:\n",
    "    print(\"greater\",n)\n",
    "else:\n",
    "    print(\"not greater\",n)"
   ]
  },
  {
   "cell_type": "code",
   "execution_count": 64,
   "metadata": {},
   "outputs": [
    {
     "name": "stdout",
     "output_type": "stream",
     "text": [
      "78\n"
     ]
    }
   ],
   "source": [
    "#7)WAP to the given number integer, if n is greater than 21,print the absolute difference between n and 21 otherwise print twice the absolute difference.\n",
    "n=99\n",
    "if n>21:\n",
    "    print(n-21)\n",
    "else:\n",
    "    print((n-21)*2)\n"
   ]
  },
  {
   "cell_type": "code",
   "execution_count": 66,
   "metadata": {},
   "outputs": [
    {
     "name": "stdout",
     "output_type": "stream",
     "text": [
      "50\n"
     ]
    }
   ],
   "source": [
    "#8)wAP to find the largest of two numbers.\n",
    "n=50\n",
    "m=12\n",
    "if m>n:\n",
    "    print(m)\n",
    "else:\n",
    "    print(n)"
   ]
  },
  {
   "cell_type": "code",
   "execution_count": 72,
   "metadata": {},
   "outputs": [
    {
     "name": "stdout",
     "output_type": "stream",
     "text": [
      "22\n"
     ]
    }
   ],
   "source": [
    "#9)WAP to check whether the given number is even or odd. If it is even then make it as an add number, if it is an odd number then make it as even number.\n",
    "x=21\n",
    "if x%2==0:\n",
    "    print(x+1)\n",
    "else:\n",
    "    print(x+1)"
   ]
  },
  {
   "cell_type": "code",
   "execution_count": 82,
   "metadata": {},
   "outputs": [
    {
     "name": "stdout",
     "output_type": "stream",
     "text": [
      "6\n",
      "343\n"
     ]
    }
   ],
   "source": [
    "#10)WAP to check whether the given number is divisible by 3 or not if yes, print the number or else print the cube of the numbers.\n",
    "x=6\n",
    "if x%3==0:\n",
    "    print(x)\n",
    "else:\n",
    "    print(x**3)  \n",
    "x=7\n",
    "if x%3==0:\n",
    "    print(x)\n",
    "else:\n",
    "    print(x**3)   "
   ]
  },
  {
   "cell_type": "code",
   "execution_count": 101,
   "metadata": {},
   "outputs": [
    {
     "name": "stdout",
     "output_type": "stream",
     "text": [
      "12 <class 'str'>\n"
     ]
    }
   ],
   "source": [
    "#11)WAP to check whether the given input is divisible by 3 and 5. If yes print the actual number or else print string of that number.\n",
    "n=12\n",
    "if n%3==0 and n%5==0:\n",
    "    print(n)\n",
    "else:\n",
    "    n=str(n)\n",
    "    print(n,type(n))"
   ]
  },
  {
   "cell_type": "code",
   "execution_count": 106,
   "metadata": {},
   "outputs": [
    {
     "name": "stdout",
     "output_type": "stream",
     "text": [
      "81\n",
      "8000\n"
     ]
    }
   ],
   "source": [
    "#12)WAP to check whether the given number lies between 1 to 19, if it is true square that number or else false cube that number and display the number.\n",
    "z=9\n",
    "if 1<z<19:\n",
    "    print(z**2)\n",
    "else:\n",
    "    print(z**3)\n",
    "z=20\n",
    "if 1<z<19:\n",
    "    print(z**2)\n",
    "else:\n",
    "    print(z**3)"
   ]
  },
  {
   "cell_type": "code",
   "execution_count": 111,
   "metadata": {},
   "outputs": [
    {
     "name": "stdout",
     "output_type": "stream",
     "text": [
      "fail 10\n",
      "pass 50\n"
     ]
    }
   ],
   "source": [
    "#13)WAP to check whether the student has passed or failed. If the student got more than 40 marks, print ‘PASS’ along with those marks, if it is not printed ‘FAIL’ along with those marks.\n",
    "b=10\n",
    "if 40<b<100:\n",
    "    print(\"pass\",b)\n",
    "else:\n",
    "    print(\"fail\",b)\n",
    "\n",
    "b=50\n",
    "if 40<b<100:\n",
    "    print(\"pass\",b)\n",
    "else:\n",
    "    print(\"fail\",b)\n",
    "\n"
   ]
  },
  {
   "cell_type": "code",
   "execution_count": 146,
   "metadata": {},
   "outputs": [
    {
     "name": "stdout",
     "output_type": "stream",
     "text": [
      "8\n"
     ]
    }
   ],
   "source": [
    "#14)WAP to check whether a given value is even and in range of 47 to 58 and not in 0 or odd. if condition is True, to perform display the ascii character. or else to perform floor division with 5 and display it. \n",
    "n=56\n",
    "if n%2==0 and 47<n<58:\n",
    "    print(chr(n))\n",
    "else:\n",
    "    print(n//5)"
   ]
  },
  {
   "cell_type": "code",
   "execution_count": 188,
   "metadata": {},
   "outputs": [
    {
     "name": "stdout",
     "output_type": "stream",
     "text": [
      "[10, 50]\n"
     ]
    }
   ],
   "source": [
    "#15)WAP to check whether a given value is less than 125 and in between 47 to 125 or not. if condition is True, to perform store the given value as key and value as a character into the dict or else to append the value in list and display it.\n",
    "d={\"a\":160}\n",
    "res=[10]\n",
    "n=129\n",
    "if n<125 and 47<n<125:\n",
    "    d=d|{n:chr(n)}\n",
    "    print(d)\n",
    "else:\n",
    "    res+=[m]\n",
    "    print(res)"
   ]
  },
  {
   "cell_type": "code",
   "execution_count": 192,
   "metadata": {},
   "outputs": [
    {
     "name": "stdout",
     "output_type": "stream",
     "text": [
      "alphabet F\n",
      "not alphabet *\n"
     ]
    }
   ],
   "source": [
    "#16)WAP to check whether a given character is in the alphabet or not. if alphabet, display the alphabet with character or else display the not alphabet with character.\n",
    "n='F'\n",
    "if 'A'<=n<='Z' or 'a'<=n<='z':\n",
    "    print(\"alphabet\",n)\n",
    "else:\n",
    "    print(\"not alphabet\",n)\n",
    "\n",
    "n='*'\n",
    "if 'A'<=n<='Z' or 'a'<=n<='z':\n",
    "    print(\"alphabet\",n)\n",
    "else:\n",
    "    print(\"not alphabet\",n)"
   ]
  },
  {
   "cell_type": "code",
   "execution_count": 196,
   "metadata": {},
   "outputs": [
    {
     "name": "stdout",
     "output_type": "stream",
     "text": [
      "not uppercase #\n",
      "uppercase R\n"
     ]
    }
   ],
   "source": [
    "#17)WAP to check whether a given character is uppercase or other character. if uppercase, display the uppercase with character or else display the other character with character.\n",
    "n=\"#\"\n",
    "if 'a'<=n<='z' or 'A'<=n<='Z':\n",
    "    print('uppercase',n)\n",
    "else:\n",
    "    print('not uppercase',n)\n",
    "n=\"R\"\n",
    "if 'a'<=n<='z' or 'A'<=n<='Z':\n",
    "    print('uppercase',n)\n",
    "else:\n",
    "    print('not uppercase',n)"
   ]
  },
  {
   "cell_type": "code",
   "execution_count": 199,
   "metadata": {},
   "outputs": [
    {
     "name": "stdout",
     "output_type": "stream",
     "text": [
      "lowercase t\n",
      "not lowercase @\n"
     ]
    }
   ],
   "source": [
    "#18)WAP to check whether a given character is lowercase or other character. if lowercase, display the lowercase with character or else display the othercharacter with character.\n",
    "v='t'\n",
    "if 'A'<=v<='Z' or 'a'<=v<='z':\n",
    "    print('lowercase',v)\n",
    "else:\n",
    "    print('not lowercase',v)\n",
    "\n",
    "v='@'\n",
    "if 'A'<=v<='Z' or 'a'<=v<='z':\n",
    "    print('lowercase',v)\n",
    "else:\n",
    "    print('not lowercase',v)"
   ]
  },
  {
   "cell_type": "code",
   "execution_count": 3,
   "metadata": {},
   "outputs": [
    {
     "name": "stdout",
     "output_type": "stream",
     "text": [
      "('other character', 'b')\n",
      "('lowercase', 'b')\n",
      "('other character', '&')\n"
     ]
    }
   ],
   "source": [
    "#19)WAP to check whether a given character is uppercase or other character. if uppercase, convert to lowercase .or else display the ascii number.\n",
    "ch=\"b\"\n",
    "if \"a\">=ch>=\"z\":\n",
    "    res=\"lowercase\",ch\n",
    "else:\n",
    "    res=\"other character\",ch\n",
    "print(res)\n",
    "ch=\"b\"\n",
    "if \"a\"<=ch<=\"z\":\n",
    "    res=\"lowercase\",ch\n",
    "else:\n",
    "    res=\"other character\",ch\n",
    "print(res)\n",
    "ch=\"&\"\n",
    "if \"a\"<=ch<=\"z\":\n",
    "    res=\"lowercase\",ch\n",
    "else:\n",
    "    res=\"other character\",ch\n",
    "print(res)\n",
    "\n"
   ]
  },
  {
   "cell_type": "code",
   "execution_count": 4,
   "metadata": {},
   "outputs": [
    {
     "name": "stdout",
     "output_type": "stream",
     "text": [
      "a\n",
      "36\n"
     ]
    }
   ],
   "source": [
    "#20)WAP to check whether a given character is lowercase or other character. if lowercase, display the lowercase with character or else display the othercharacter with character.\n",
    "ch=\"A\"\n",
    "if \"A\"<=ch<=\"Z\":\n",
    "    res=chr(ord(ch)+32)\n",
    "else:\n",
    "    res=ord(ch)\n",
    "print(res)\n",
    "\n",
    "ch=\"$\"\n",
    "if \"A\"<=ch<=\"Z\":\n",
    "    res=chr(ord(ch)+32)\n",
    "else:\n",
    "    res=ord(ch)\n",
    "print(res)"
   ]
  },
  {
   "cell_type": "code",
   "execution_count": 6,
   "metadata": {},
   "outputs": [
    {
     "name": "stdout",
     "output_type": "stream",
     "text": [
      "T\n",
      "y\n"
     ]
    }
   ],
   "source": [
    "#21)WAP to check whether a given character is uppercase or other character. if uppercase, convert to lowercase .or else display the ascii number.\n",
    "ch=\"t\"\n",
    "if \"A\"<=ch<=\"Z\":\n",
    "    res=chr(ord(ch)+32)\n",
    "elif \"a\"<=ch<=\"z\":\n",
    "    res=chr(ord(ch)-32)\n",
    "else:\n",
    "    None\n",
    "print(res)\n",
    "\n",
    "ch=\"Y\"\n",
    "if \"A\"<=ch<=\"Z\":\n",
    "    res=chr(ord(ch)+32)\n",
    "elif \"a\"<=ch<=\"z\":\n",
    "    res=chr(ord(ch)-32)\n",
    "else:\n",
    "    None\n",
    "print(res)"
   ]
  },
  {
   "cell_type": "code",
   "execution_count": 7,
   "metadata": {},
   "outputs": [
    {
     "name": "stdout",
     "output_type": "stream",
     "text": [
      "@t\n",
      "h\n",
      "noh\n"
     ]
    }
   ],
   "source": [
    "#22) WAP to check whether the given string of the first character is a special symbol or not. If a special symbol, to extract and display the middle character or else to reverse the string and display the half of the string.\n",
    "s=\"@python\"\n",
    "if 0<=ord(s[0])<=47 or 58<=ord(s[0])<=64 or 91<=ord(s[0])<=96 or 123<=ord(s[0])<=127:\n",
    "    res=s[0]+s[len(s)//2]\n",
    "else:\n",
    "    res=s[-1:s[len(s)//2]]\n",
    "print(res)\n",
    "\n",
    "s=\"python\"\n",
    "b=s[len(s)//2]\n",
    "print(b)\n",
    "if 0<=ord(s[0])<=47 or 58<=ord(s[0])<=64 or 91<=ord(s[0])<=96 or 123<=ord(s[0])<=127:\n",
    "    res=s[0]+b\n",
    "else:\n",
    "    res=s[-1:-len(s)//2-1:-1]\n",
    "    \n",
    "print(res)"
   ]
  },
  {
   "cell_type": "code",
   "execution_count": 8,
   "metadata": {},
   "outputs": [
    {
     "name": "stdout",
     "output_type": "stream",
     "text": [
      "('VOWEL', 'a')\n",
      "CONSONANT\n"
     ]
    }
   ],
   "source": [
    "#23) WAP to check whether the input character is a vowel or not. If it is vowel print ‘VOWEL’ along with that character, if it is not just print ‘CONSONANT’. \n",
    "ch=\"a\"\n",
    "if ch in \"AEIOUaeiou\":\n",
    "    res=\"VOWEL\",ch\n",
    "else:\n",
    "    res=\"CONSONANT\"\n",
    "print(res)\n",
    "ch=\"z\"\n",
    "if ch in \"AEIOUaeiou\":\n",
    "    res=\"VOWEL\",ch\n",
    "else:\n",
    "    res=\"CONSONANT\"\n",
    "print(res)"
   ]
  },
  {
   "cell_type": "code",
   "execution_count": 9,
   "metadata": {},
   "outputs": [
    {
     "name": "stdout",
     "output_type": "stream",
     "text": [
      "v\n",
      "s\n"
     ]
    }
   ],
   "source": [
    "#24) WAP to check whether a given character is a vowel or consonant. if vowel, to print the next character of a given character or else print previous characters.\n",
    "ch=\"u\"\n",
    "if ch in \"AEIOUaeiou\":\n",
    "    res=chr(ord(ch)+1)\n",
    "else:\n",
    "    res=chr(ord(ch)-1)\n",
    "print(res)\n",
    "ch=\"t\"\n",
    "if ch in \"AEIOUaeiou\":\n",
    "    res=chr(ord(ch)+1)\n",
    "else:\n",
    "    res=chr(ord(ch)-1)\n",
    "print(res)"
   ]
  },
  {
   "cell_type": "code",
   "execution_count": 10,
   "metadata": {},
   "outputs": [
    {
     "name": "stdout",
     "output_type": "stream",
     "text": [
      "sgnirts\n",
      "r\n"
     ]
    }
   ],
   "source": [
    "#25) WAP to check whether a given string of first character is alphabet or notif the alphabet prints, reverse the string or else print the middle character.\n",
    "s=\"strings\"\n",
    "if \"a\"<=s[0]<=\"z\" or \"A\"<=s[0]<=\"Z\":\n",
    "    res=s[::-1]\n",
    "else:\n",
    "    res=s[len(s)//2]\n",
    "print(res)\n",
    "\n",
    "s=\"$string\"\n",
    "if \"a\"<=s[0]<=\"z\" or \"A\"<=s[0]<=\"Z\":\n",
    "    res=s[::-1]\n",
    "else:\n",
    "    res=s[len(s)//2]\n",
    "print(res)"
   ]
  },
  {
   "cell_type": "code",
   "execution_count": 11,
   "metadata": {},
   "outputs": [
    {
     "name": "stdout",
     "output_type": "stream",
     "text": [
      "T\n",
      "y\n"
     ]
    }
   ],
   "source": [
    "#26) WAP to check whether the given input character is uppercase or lowercase. If the input character is upper case convert into lower case and vice versa.\n",
    "ch=\"t\"\n",
    "if \"A\"<=ch<=\"Z\":\n",
    "    res=chr(ord(ch)+32)\n",
    "elif \"a\"<=ch<=\"z\":\n",
    "    res=chr(ord(ch)-32)\n",
    "else:\n",
    "    None\n",
    "print(res)\n",
    "\n",
    "ch=\"Y\"\n",
    "if \"A\"<=ch<=\"Z\":\n",
    "    res=chr(ord(ch)+32)\n",
    "elif \"a\"<=ch<=\"z\":\n",
    "    res=chr(ord(ch)-32)\n",
    "else:\n",
    "    None\n",
    "print(res)"
   ]
  },
  {
   "cell_type": "code",
   "execution_count": 12,
   "metadata": {},
   "outputs": [
    {
     "name": "stdout",
     "output_type": "stream",
     "text": [
      "lo\n",
      "hi\n"
     ]
    }
   ],
   "source": [
    "#27) WAP to check whether a given string is less than 3 characters, to print the entire string otherwise to print after third positions to the remaining string.\n",
    "s=\"hello\"\n",
    "if len(s)<3:\n",
    "    res=s\n",
    "else:\n",
    "    res=s[3:]\n",
    "print(res)\n",
    "\n",
    "s=\"hi\"\n",
    "if len(s)<3:\n",
    "    res=s\n",
    "else:\n",
    "    res=s[3:]\n",
    "print(res)"
   ]
  },
  {
   "cell_type": "code",
   "execution_count": 13,
   "metadata": {},
   "outputs": [
    {
     "name": "stdout",
     "output_type": "stream",
     "text": [
      "qspiders bye\n",
      "ps\n"
     ]
    }
   ],
   "source": [
    "#28) WAP to check whether a given length of the string is even or not. if even, to append the new string called \"bye\" or else print the first and last characters.\n",
    "s=\"qspiders\"\n",
    "if len(s)%2==0:\n",
    "    res=s+\" bye\"\n",
    "else:\n",
    "    res=s[0]+s[-1]\n",
    "print(res)\n",
    "\n",
    "s=\"pyspiders\"\n",
    "if len(s)%2==0:\n",
    "    res=s+\" bye\"\n",
    "else:\n",
    "    res=s[0]+s[-1]\n",
    "print(res)"
   ]
  },
  {
   "cell_type": "code",
   "execution_count": 15,
   "metadata": {},
   "outputs": [
    {
     "name": "stdout",
     "output_type": "stream",
     "text": [
      "hai pyspiders\n",
      "spider\n"
     ]
    }
   ],
   "source": [
    "#29) WAP to check whether a given length of the string is odd or not. if odd, to append the new string(\"Haii\") from the starting of the given string, or else to avoid the starting character and ending character of the givenstring and to display the remaining characters.\n",
    "s=\"pyspiders\"\n",
    "if len(s)%2!=0:\n",
    "    res=\"hai \"+s\n",
    "else:\n",
    "    res=s[1:len(s)-1:1]\n",
    "print(res)\n",
    "\n",
    "s=\"qspiders\"\n",
    "if len(s)%2!=0:\n",
    "    res=\"hai \"+s\n",
    "else:\n",
    "    res=s[1:len(s)-1:1]\n",
    "print(res)"
   ]
  },
  {
   "cell_type": "code",
   "execution_count": 16,
   "metadata": {},
   "outputs": [
    {
     "name": "stdout",
     "output_type": "stream",
     "text": [
      "redips\n",
      "ders\n"
     ]
    }
   ],
   "source": [
    "#30 WAP to check whether the last of the given string is a special character or not, if the special character prints reverse the string except the last character or else to check if the length of the string is odd or not, if odd to extract the middle character to the end of the string.\n",
    "s=\"spider@\"\n",
    "if 0<=ord(s[-1])<=47 or 58<=ord(s[-1])<=64 or 91<=ord(s[-1])<=96 or 123<=ord(s[-1])<=127:\n",
    "    res=s[-2::-1]\n",
    "else:\n",
    "    if len(s)%2!=0:\n",
    "        res=s[len(s)//2::]\n",
    "print(res)\n",
    "\n",
    "s=\"spiders\"\n",
    "if 0<=ord(s[-1])<=47 or 58<=ord(s[-1])<=64 or 91<=ord(s[-1])<=96 or 123<=ord(s[-1])<=127:\n",
    "    res=s[-2::-1]\n",
    "else:\n",
    "    if len(s)%2!=0:\n",
    "        res=s[len(s)//2::]\n",
    "print(res)"
   ]
  },
  {
   "cell_type": "code",
   "execution_count": 17,
   "metadata": {},
   "outputs": [
    {
     "name": "stdout",
     "output_type": "stream",
     "text": [
      "not leap year\n"
     ]
    }
   ],
   "source": [
    "#31) WAP to check whether a given year is a leap year or not. if leap year, print leap year or else not a leap year.\n",
    "y=1900\n",
    "if y%4==0:\n",
    "    if y%100==0:\n",
    "        if y%400==0:\n",
    "            print(\"leap year\")\n",
    "        else:\n",
    "            print(\"not leap year\")\n",
    "    else:\n",
    "        print(\"Leap year\")\n",
    "else:\n",
    "    print(\"not leap year\")"
   ]
  },
  {
   "cell_type": "code",
   "execution_count": 18,
   "metadata": {},
   "outputs": [
    {
     "name": "stdout",
     "output_type": "stream",
     "text": [
      "greatest 100\n"
     ]
    }
   ],
   "source": [
    "#32) WAP to find out the greatest of two numbers and display the greatest number. if the greatest number, display the greatest message with value.\n",
    "n1=100\n",
    "n2=46\n",
    "if n1>n2:\n",
    "    print(\"greatest\",n1)\n",
    "else:\n",
    "    print(\"greatest\",n2)"
   ]
  },
  {
   "cell_type": "code",
   "execution_count": 19,
   "metadata": {},
   "outputs": [
    {
     "name": "stdout",
     "output_type": "stream",
     "text": [
      "the value is present in the given collection\n"
     ]
    }
   ],
   "source": [
    "#33) WAP to check whether the given value is present inside the given collection or not.if value is present, display the value is available or else the value is not present.\n",
    "l=[1,2,3,4,5,6,7]\n",
    "if 5 in l:\n",
    "    print(\"the value is present in the given collection\")\n",
    "else:\n",
    "    print(\"not present in the given collection\")"
   ]
  },
  {
   "cell_type": "code",
   "execution_count": 21,
   "metadata": {},
   "outputs": [
    {
     "name": "stdout",
     "output_type": "stream",
     "text": [
      "rpides\n",
      "hihihi\n"
     ]
    }
   ],
   "source": [
    "#34) WAP whether a given string, if string length is more than 2, then it displays a new string with the first and last characters switched, otherwise the display the 3 copies of given string.\n",
    "s=\"spider\"\n",
    "if len(s)>2:\n",
    "    res=s[-1]+s[1:len(s)-1]+s[0]\n",
    "else:\n",
    "    res=s*3\n",
    "print(res)\n",
    "\n",
    "s=\"hi\"\n",
    "if len(s)>2:\n",
    "    res=s[-1]+s[1:len(s)-1]+s[0]\n",
    "else:\n",
    "    res=s*3\n",
    "print(res)"
   ]
  },
  {
   "cell_type": "code",
   "execution_count": 22,
   "metadata": {},
   "outputs": [
    {
     "name": "stdout",
     "output_type": "stream",
     "text": [
      "[3.3333333333333335, 20, 30, 40, -51]\n",
      "25\n"
     ]
    }
   ],
   "source": [
    "#35) WAP to check whether a given value is a list and first and last values should be integer if condition is satisfied first value is True division by 3 and perform the bitwise not for last value and those result values are stored in same positions in given list or else, to perform length of the collection power by 2 and display value.\n",
    "\n",
    "l=[10,20,30,40,50]\n",
    "if type(l)==list and type(l[0])==int and type(l[-1])==int:\n",
    "    l[0]=l[0]/3\n",
    "    l[-1]=~l[-1]\n",
    "    res=l\n",
    "else:\n",
    "    res=len(l)**2\n",
    "print(res)\n",
    "\n",
    "l=[10,20,30,40,\"a\"]\n",
    "if type(l)==list and type(l[0])==int and type(l[-1])==int:\n",
    "    l[0]=l[0]/3\n",
    "    l[-1]=~l[-1]\n",
    "    res=l\n",
    "else:\n",
    "    res=len(l)**2\n",
    "print(res)"
   ]
  },
  {
   "cell_type": "code",
   "execution_count": 23,
   "metadata": {},
   "outputs": [
    {
     "name": "stdout",
     "output_type": "stream",
     "text": [
      "condhaiition\n",
      "pythonpythonpython\n"
     ]
    }
   ],
   "source": [
    "#36) WAP to check whether a given value is a string or not and length of the value should be more than 7, if condition is satisfied to append the new string in the middle of the given string or else to perform the replications with 3 and display the result.\n",
    "\n",
    "s=\"condition\"\n",
    "if type(s)==str and len(s)>7:\n",
    "    res=s[0:len(s)//2]+\"hai\"+s[len(s)//2:]\n",
    "else:\n",
    "    res=s*3\n",
    "print(res)\n",
    "\n",
    "s=\"python\"\n",
    "if type(s)==str and len(s)>7:\n",
    "    res=s[0:len(s)//2]+\"hai\"+s[len(s)//2:]\n",
    "else:\n",
    "    res=s*3\n",
    "print(res)"
   ]
  },
  {
   "cell_type": "code",
   "execution_count": 24,
   "metadata": {},
   "outputs": [
    {
     "name": "stdout",
     "output_type": "stream",
     "text": [
      "ABced\n",
      "cbAcde\n"
     ]
    }
   ],
   "source": [
    "#37# WAP to check if the given string of first and second character should be sequence or not. if the sequence prints the first, second and last two characters, or else the first half string is reversed and the remaining half string should be normal and display it. \n",
    "\n",
    "s=\"ABcde\"\n",
    "if ord(s[0])+1==ord(s[1]):\n",
    "    res=s[:3]+s[-1:-3:-1]\n",
    "else:\n",
    "    res=s[len(s)//2::-1]+s[len(s)//2::1]\n",
    "print(res)\n",
    "\n",
    "s=\"Abcde\"\n",
    "if ord(s[0])+1==ord(s[1]):\n",
    "    res=s[:3]+s[-1:-3:-1]\n",
    "else:\n",
    "    res=s[len(s)//2::-1]+s[len(s)//2::1]\n",
    "print(res)"
   ]
  },
  {
   "cell_type": "code",
   "execution_count": 76,
   "metadata": {},
   "outputs": [
    {
     "name": "stdout",
     "output_type": "stream",
     "text": [
      "l\n"
     ]
    }
   ],
   "source": [
    "#38) WAP to check whether a given value is present inside the collection or not. Ifpresent, print the value or else print value is not found.\n",
    "s=\"hello\"\n",
    "d='l'\n",
    "if d in s:\n",
    "    print(d)\n",
    "else:\n",
    "    print(\"value not found\")"
   ]
  },
  {
   "cell_type": "code",
   "execution_count": 25,
   "metadata": {},
   "outputs": [
    {
     "name": "stdout",
     "output_type": "stream",
     "text": [
      "{'a': 10, 'b': 20, 'c': 30, 'd': 40, 'f': 50}\n",
      "cbAcde\n"
     ]
    }
   ],
   "source": [
    "#39) WAP to check whether a given key is present in the dict or not. if key is present: display the value or else add key and new value inside the dict.\n",
    "\n",
    "d={\"a\":10,\"b\":20,\"c\":30,\"d\":40}\n",
    "n=\"f\"\n",
    "if n in d:\n",
    "    res=d[n]\n",
    "else:\n",
    "    d[n]=50\n",
    "    print(d)\n",
    "print(res)"
   ]
  },
  {
   "cell_type": "code",
   "execution_count": 26,
   "metadata": {},
   "outputs": [
    {
     "name": "stdout",
     "output_type": "stream",
     "text": [
      "{'a', 20, 90, 40, 10, 'b', 30}\n",
      "{'a', 90, 10, 'b', 30}\n"
     ]
    }
   ],
   "source": [
    "#40) WAP to check whether a given collection is set or not. if set, append the new value, or else eliminate the duplicate values in collection. final results should be set type.\n",
    "\n",
    "c={10,20,30,40,\"a\",\"b\"}\n",
    "if type(c)==set:\n",
    "    d={90,}\n",
    "    c|=d\n",
    "    res=c\n",
    "else:\n",
    "    res=type(set)\n",
    "print(res)\n",
    "\n",
    "c={10,10,30,30,\"a\",\"b\"}\n",
    "if type(c)==set:\n",
    "    d={90,}\n",
    "    c|=d\n",
    "    res=c\n",
    "else:\n",
    "    res=type(set)\n",
    "print(res)"
   ]
  },
  {
   "cell_type": "code",
   "execution_count": 27,
   "metadata": {},
   "outputs": [
    {
     "name": "stdout",
     "output_type": "stream",
     "text": [
      "('eligible for vote', 21)\n",
      "not eligible\n"
     ]
    }
   ],
   "source": [
    "#41) WAP to read the age of a candidate and determine whether it is eligible for his/her own vote or not.it eligible print age and eligible messages or else print not eligible.\n",
    "\n",
    "age=21\n",
    "if age>=18:\n",
    "    res=\"eligible for vote\",age\n",
    "else:\n",
    "    res=\"not eligible\"\n",
    "print(res)\n",
    "\n",
    "age=11\n",
    "if age>=18:\n",
    "    res=\"eligible for vote\",age\n",
    "else:\n",
    "    res=\"not eligible\"\n",
    "print(res)"
   ]
  },
  {
   "cell_type": "code",
   "execution_count": 28,
   "metadata": {},
   "outputs": [
    {
     "name": "stdout",
     "output_type": "stream",
     "text": [
      "(54, '6')\n",
      "8\n"
     ]
    }
   ],
   "source": [
    "#42) WAP to check whether a given value is even and in between 47 to 58 and not in 0 or odd. if condition is True, to perform display the ascii character or else to perform floor division with 5 and display it.\n",
    "\n",
    "n=54\n",
    "if 47<n<58 and n%2==0 and n!=0:\n",
    "    res=(n,chr(n))\n",
    "else:\n",
    "    res=n//5\n",
    "print(res)\n",
    "\n",
    "n=44\n",
    "if 47<n<58 and n%2==0 and n!=0:\n",
    "    res=(n,chr(n))\n",
    "else:\n",
    "    res=n//5\n",
    "print(res)"
   ]
  },
  {
   "cell_type": "code",
   "execution_count": 70,
   "metadata": {},
   "outputs": [
    {
     "name": "stdout",
     "output_type": "stream",
     "text": [
      "not palindrome karnataka\n",
      "it is palindrome\n",
      "malay\n"
     ]
    }
   ],
   "source": [
    "#43) WAP to check whether the given string is palindrome or not if it is a palindrome string palindrome along with the string if it is not a palindrome print not palindrome.\n",
    "s=\"karnataka\"\n",
    "if s[::-1]==s[::1]:\n",
    "    print(\"it is palindrome\")\n",
    "    res=s[0:(len(s)//2+1):1]\n",
    "    print(res)\n",
    "else:\n",
    "    print(\"not palindrome\",s)\n",
    "s=\"malayalam\"\n",
    "if s[::-1]==s[::1]:\n",
    "    print(\"it is palindrome\")\n",
    "    res=s[0:(len(s)//2+1):1]\n",
    "    print(res)\n",
    "else:\n",
    "    print(\"not palindrome\",s)\n"
   ]
  },
  {
   "cell_type": "code",
   "execution_count": 67,
   "metadata": {},
   "outputs": [
    {
     "name": "stdout",
     "output_type": "stream",
     "text": [
      "palindrome\n",
      "palindrome\n"
     ]
    }
   ],
   "source": [
    "#44) WAP to check whether a given number is palindrome or not. If palindrome, display the given value as a palindrome or else not a palindrome.\n",
    "n=121\n",
    "s=n\n",
    "rem=0\n",
    "while n>0:\n",
    "    num=n%10\n",
    "    rem=rem*10+num\n",
    "    n=n//10\n",
    "if rem==s:\n",
    "    print(\"palindrome\")\n",
    "else:\n",
    "    print(\"not palindrome\")\n",
    "\n",
    "n=1221\n",
    "s=str(n)\n",
    "if s[::1]==s[::-1]:\n",
    "    print(\"palindrome\")\n",
    "else:\n",
    "    print(\"not palindrome\")"
   ]
  },
  {
   "cell_type": "code",
   "execution_count": 65,
   "metadata": {},
   "outputs": [
    {
     "name": "stdout",
     "output_type": "stream",
     "text": [
      "6 python\n",
      "7 program\n"
     ]
    }
   ],
   "source": [
    "#45) WAP to check length of both string collections are equal or not. if both are equal print the concat the two strings and display, or else if any one of the collection not equal print both the collections with lengths.\n",
    "s1=\"python\"\n",
    "s2=\"program\"\n",
    "if len(s1)==len(s2):\n",
    "    s1+=s2\n",
    "    print(s1)\n",
    "else:\n",
    "    print(len(s1),s1)\n",
    "    print(len(s2),s2)"
   ]
  },
  {
   "cell_type": "code",
   "execution_count": 53,
   "metadata": {},
   "outputs": [
    {
     "name": "stdout",
     "output_type": "stream",
     "text": [
      "[1, 5]\n",
      "3\n"
     ]
    }
   ],
   "source": [
    "#46) WAP to check whether both given values point to the same memory location or not. if it is true print the middle item of the second collection, or else if it is false print the first item and last item of the first collection along with the memory address.\n",
    "a=[1,2,3,4,5]\n",
    "b=[1,2,3,4,5]\n",
    "if id(a)==id(b):\n",
    "    res=b[len(b)//2]\n",
    "else:\n",
    "    res=[a[0],a[-1]]\n",
    "print(res)\n",
    "\n",
    "a=[1,2,3,4,5]\n",
    "b=[1,2,3,4,5]\n",
    "if a==b: #it is not consider ids\n",
    "    res=b[len(b)//2]\n",
    "else:\n",
    "    res=[a[0],a[-1]]\n",
    "print(res)"
   ]
  },
  {
   "cell_type": "code",
   "execution_count": 52,
   "metadata": {},
   "outputs": [
    {
     "name": "stdout",
     "output_type": "stream",
     "text": [
      "215\n",
      "(112, 111, 103)\n"
     ]
    }
   ],
   "source": [
    "#47) WAP to check whether both given values point to the same memory location ornot. if it is true print the middle itemof the second collection, or else if it is falseprint the first item and last item of the first collection along with the memory address.\n",
    "s=[10,30,40]\n",
    "d=[13,40,50]\n",
    "if s is d:\n",
    "    print(d[len(d)//2])\n",
    "else:\n",
    "    print(s[0],s[-1])"
   ]
  },
  {
   "cell_type": "code",
   "execution_count": 51,
   "metadata": {},
   "outputs": [
    {
     "name": "stdout",
     "output_type": "stream",
     "text": [
      "212\n",
      "python programmindpython programmindpython programmind\n"
     ]
    }
   ],
   "source": [
    "#48) WAP to check whether a given string collection is more than ten, and the first + last character of the ascii values should be divisible by 5, if condition is satisfied print first, middle, last characters ASCII values or else print the string three times.\n",
    "s=\"python programmind\"\n",
    "a=ord(s[0])+ord(s[-1])\n",
    "print(a)\n",
    "if len(s)>10 and a%5==0:\n",
    "    res=ord(s[0]),ord(s[len(s)//2]),ord(s[-1])\n",
    "else:\n",
    "    res=s*3\n",
    "print(res)"
   ]
  },
  {
   "cell_type": "code",
   "execution_count": 50,
   "metadata": {},
   "outputs": [
    {
     "name": "stdout",
     "output_type": "stream",
     "text": [
      "[10, 20, 'hai', 40, 50]\n",
      "20\n"
     ]
    }
   ],
   "source": [
    "#49) WAP to check whether the middle of the item present in the list is string data type or not if it is string print that list or else if it is not string then print that middle item.\n",
    "l=[10,20,\"hai\",40,50]\n",
    "if type(l[len(l)//2])==str:\n",
    "    res=l\n",
    "else:\n",
    "    res=l[len(l)//2]\n",
    "print(res)\n",
    "\n",
    "l=[1,2,10,20,\"hai\",40,50]\n",
    "if type(l[len(l)//2])==str:\n",
    "    res=l\n",
    "else:\n",
    "    res=l[len(l)//2]\n",
    "print(res)"
   ]
  },
  {
   "cell_type": "code",
   "execution_count": 49,
   "metadata": {},
   "outputs": [
    {
     "name": "stdout",
     "output_type": "stream",
     "text": [
      "gtrins\n"
     ]
    }
   ],
   "source": [
    "#50) WAP Given a string, return a new string where the first and last characters have been exchanged.\n",
    "\n",
    "s=\"string\"\n",
    "if type(s)==str:\n",
    "    res=s[-1]+s[1:len(s)-1:]+s[0]\n",
    "else:\n",
    "    res=str(s)\n",
    "print(res)"
   ]
  },
  {
   "cell_type": "code",
   "execution_count": 43,
   "metadata": {},
   "outputs": [
    {
     "name": "stdout",
     "output_type": "stream",
     "text": [
      "49\n",
      "140\n"
     ]
    }
   ],
   "source": [
    "#51) Write a program to find out such numbers which are divisible by 7 but are not a multiple of 5. Both the conditional is satisfied and print actual value. if one condition is not satisfied actual number is multiply by 4 and print result.\n",
    "\n",
    "n=49\n",
    "if n%7==0 and not(n%10==0 or n%10==5):\n",
    "    res=n\n",
    "else:\n",
    "    res=n*4\n",
    "print(res)\n",
    "\n",
    "n=35\n",
    "if n%7==0 and not(n%10==0 or n%10==5):\n",
    "    res=n\n",
    "else:\n",
    "    res=n*4\n",
    "print(res)"
   ]
  },
  {
   "cell_type": "code",
   "execution_count": 48,
   "metadata": {},
   "outputs": [
    {
     "name": "stdout",
     "output_type": "stream",
     "text": [
      "140708774145928\n",
      "(2297393370064, 2297393369648)\n"
     ]
    }
   ],
   "source": [
    "#52) WAP to check whether two values are pointing to the same memory address or not. If the same memory displays the address or else displays the two values addresses.\n",
    "a=100\n",
    "b=100\n",
    "if id(a)==id(b):\n",
    "    res=id(a)\n",
    "else:\n",
    "    res=id(a),id(b)\n",
    "print(res)\n",
    "\n",
    "a=257\n",
    "b=257\n",
    "if id(a)==id(b): #in 64 memory block reference memory block will be creted\n",
    "    res=id(a)    #upto 256 consider as 32 bit these are same mb\n",
    "else:\n",
    "    res=id(a),id(b)\n",
    "print(res)"
   ]
  },
  {
   "cell_type": "code",
   "execution_count": 47,
   "metadata": {},
   "outputs": [
    {
     "name": "stdout",
     "output_type": "stream",
     "text": [
      "@@@\n",
      "aaaaa\n"
     ]
    }
   ],
   "source": [
    "#53) WAP to check whether a given input character is a special symbol or not if it is a special symbol then print that character three times and tell print that character 5 times.\n",
    "s=\"@\"\n",
    "if 0<=ord(s)<=47 or 58<=ord(s)<=64 or 91<=ord(s)<=96 or 123<=ord(s)<=127:\n",
    "    res=s*3\n",
    "else:\n",
    "    res=s*5\n",
    "print(res)\n",
    "\n",
    "s=\"a\"\n",
    "if 0<=ord(s)<=47 or 58<=ord(s)<=64 or 91<=ord(s)<=96 or 123<=ord(s)<=127:\n",
    "    res=s*3\n",
    "else:\n",
    "    res=s*5\n",
    "print(res)"
   ]
  },
  {
   "cell_type": "code",
   "execution_count": 46,
   "metadata": {},
   "outputs": [
    {
     "name": "stdout",
     "output_type": "stream",
     "text": [
      "python\n",
      "('hello', 'welcome')\n"
     ]
    }
   ],
   "source": [
    "#54) WAP to check length of both string collections equal or not if it is equal print the connection of any one of the collections if it is not equal print both the collection.\n",
    "s1=\"python\"\n",
    "s2=\"progra\"\n",
    "if len(s1)==len(s2):\n",
    "    res=s1\n",
    "else:\n",
    "    res=s1,s2\n",
    "print(res)\n",
    "\n",
    "s1=\"hello\"\n",
    "s2=\"welcome\"\n",
    "if len(s1)==len(s2):\n",
    "    res=s1\n",
    "else:\n",
    "    res=s1,s2\n",
    "print(res)"
   ]
  },
  {
   "cell_type": "code",
   "execution_count": 45,
   "metadata": {},
   "outputs": [
    {
     "name": "stdout",
     "output_type": "stream",
     "text": [
      "g\n",
      "1\n"
     ]
    }
   ],
   "source": [
    "#55) WAP To check whether both input variables point to the same memory location or not if it is true print the last item of the second collection, if it is false print the first item of the first collection along with the memory address.\n",
    "a=\"string\"\n",
    "b=\"string\"\n",
    "if id(a)==id(b):\n",
    "    res=b[-1]\n",
    "else:\n",
    "    res=a[0]\n",
    "print(res)\n",
    "\n",
    "a=(1,2,3,4,5)\n",
    "b=(1,2,3,4,5)\n",
    "if id(a)==id(b):\n",
    "    res=b[-1]\n",
    "else:\n",
    "    res=a[0]\n",
    "print(res)"
   ]
  },
  {
   "cell_type": "code",
   "execution_count": 71,
   "metadata": {},
   "outputs": [
    {
     "name": "stdout",
     "output_type": "stream",
     "text": [
      "rtringrtringrtringrtringrtring\n",
      "h\n",
      "stringstringstring\n"
     ]
    }
   ],
   "source": [
    "\n",
    "#56) WAP to print the string collection five times when the length of the string collection should be more than 3 and the middle character of the string should be vowel and the first character ASCII value should be even, to print the previous character of middle character, or else if ASCII value is odd then print the string three times as print that string.\n",
    "s=\"rtring\"\n",
    "if len(s)>3 and s[len(s)//2] in \"AEIOUaeiou\" and ord(s[0])%2==0:\n",
    "    print(s*5)\n",
    "    res=chr(ord(s[len(s)//2])-1)\n",
    "else:\n",
    "    if ord(s[0])%2!=0:\n",
    "        res=s*3\n",
    "print(res)\n",
    "\n",
    "\n",
    "s=\"string\"\n",
    "if len(s)>3 and s[len(s)//2] in \"AEIOUaeiou\" and ord(s[0])%2==0:\n",
    "    print(s*5)\n",
    "    res=chr(ord(s[len(s)//2])-1)\n",
    "else:\n",
    "    if ord(s[0])%2!=0:\n",
    "        res=s*3\n",
    "print(res)"
   ]
  },
  {
   "cell_type": "code",
   "execution_count": 29,
   "metadata": {},
   "outputs": [
    {
     "name": "stdout",
     "output_type": "stream",
     "text": [
      "ravi buys pen\n",
      "ravi buys pen\n"
     ]
    }
   ],
   "source": [
    "#57) Ravi would like to buy a new cello or red pen. The cost of the pen should be 10. If the pen is available in the shop, he will buy the pen. If it is not there he will come out of the shop.\n",
    "cost=10\n",
    "pen=[\"cello\",\"red\",\"blue\",\"black\"]\n",
    "product=[\"available\",\"unavailable\"]\n",
    "if \"cello\" in pen or \"red\" in pen  and cost==10 and product in\"available\":\n",
    "    print(\"ravi buys pen\")\n",
    "else:\n",
    "    print(\"he will come out of shop\")\n",
    "\n",
    "cost=20\n",
    "pen=[\"cello\",\"red\",\"blue\",\"black\"]\n",
    "product=[\"available\"]\n",
    "if \"cello\" in pen or \"red\" in pen  and cost<=10 and product in\"unavailable\":\n",
    "    print(\"ravi buys pen\")\n",
    "else:\n",
    "    print(\"he will come out of shop\")"
   ]
  },
  {
   "cell_type": "code",
   "execution_count": 74,
   "metadata": {},
   "outputs": [
    {
     "name": "stdout",
     "output_type": "stream",
     "text": [
      "50\n"
     ]
    }
   ],
   "source": [
    "#58)WAP to perform addition and subtraction operation by using list collection if thefirst and middle data items number are even performing addition operation, or else performing subtraction.\n",
    "l=[10,20,40,50]\n",
    "if l[0]%2==0 and l[len(l)//2]%2==0:\n",
    "    d=l[0]+l[len(l)//2]\n",
    "    print(d)\n",
    "else:\n",
    "    d=l[0]-l[len(l)//2]\n",
    "    print(d)"
   ]
  },
  {
   "cell_type": "code",
   "execution_count": 75,
   "metadata": {},
   "outputs": [
    {
     "name": "stdout",
     "output_type": "stream",
     "text": [
      "2297397233856 2297397297280\n"
     ]
    }
   ],
   "source": [
    "#59)WAP to check whether the first item of these two lists is either integer or not.If it is an integer, concatenate these two lists or else print the memory address of these two lists.\n",
    "s=[10,\"haii\",90]\n",
    "d=[10.34,90,(23,49)]\n",
    "if type(s[0])==int and type(d[0])==int:\n",
    "    s+=d\n",
    "    print(s)\n",
    "else:\n",
    "    print(id(s),id(d))"
   ]
  },
  {
   "cell_type": "code",
   "execution_count": 79,
   "metadata": {},
   "outputs": [
    {
     "name": "stdout",
     "output_type": "stream",
     "text": [
      "19\n"
     ]
    }
   ],
   "source": [
    "#60)WAP to find the smallest of two numbers.\n",
    "n=45\n",
    "m=19\n",
    "if m<n:\n",
    "    print(m)\n",
    "else:\n",
    "    print(n)"
   ]
  }
 ],
 "metadata": {
  "kernelspec": {
   "display_name": "Python 3",
   "language": "python",
   "name": "python3"
  },
  "language_info": {
   "codemirror_mode": {
    "name": "ipython",
    "version": 3
   },
   "file_extension": ".py",
   "mimetype": "text/x-python",
   "name": "python",
   "nbconvert_exporter": "python",
   "pygments_lexer": "ipython3",
   "version": "3.11.4"
  },
  "orig_nbformat": 4
 },
 "nbformat": 4,
 "nbformat_minor": 2
}
